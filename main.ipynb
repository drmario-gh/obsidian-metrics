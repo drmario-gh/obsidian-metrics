{
 "cells": [
  {
   "cell_type": "code",
   "execution_count": 8,
   "id": "89f47c4c-b3e4-4c85-ab78-1eaceca0ec32",
   "metadata": {
    "tags": []
   },
   "outputs": [
    {
     "ename": "AnalysisException",
     "evalue": "Hive support is required to CREATE Hive TABLE (AS SELECT);\n'CreateTable `obsidian_metrics_db`.`files_metrics`, org.apache.hadoop.hive.serde2.lazy.LazySimpleSerDe, ErrorIfExists\n",
     "output_type": "error",
     "traceback": [
      "\u001b[0;31m---------------------------------------------------------------------------\u001b[0m",
      "\u001b[0;31mAnalysisException\u001b[0m                         Traceback (most recent call last)",
      "Cell \u001b[0;32mIn[11], line 16\u001b[0m\n\u001b[1;32m     14\u001b[0m spark\u001b[38;5;241m.\u001b[39msql(\u001b[38;5;124m\"\u001b[39m\u001b[38;5;124mCREATE DATABASE IF NOT EXISTS obsidian_metrics_db\u001b[39m\u001b[38;5;124m\"\u001b[39m)\n\u001b[1;32m     15\u001b[0m spark\u001b[38;5;241m.\u001b[39msql(\u001b[38;5;124m\"\u001b[39m\u001b[38;5;124mUSE obsidian_metrics_db\u001b[39m\u001b[38;5;124m\"\u001b[39m)\n\u001b[0;32m---> 16\u001b[0m \u001b[43mspark\u001b[49m\u001b[38;5;241;43m.\u001b[39;49m\u001b[43msql\u001b[49m\u001b[43m(\u001b[49m\u001b[38;5;124;43m\"\"\"\u001b[39;49m\n\u001b[1;32m     17\u001b[0m \u001b[38;5;124;43m    CREATE TABLE files_metrics (\u001b[39;49m\n\u001b[1;32m     18\u001b[0m \u001b[38;5;124;43m        date DATE,\u001b[39;49m\n\u001b[1;32m     19\u001b[0m \u001b[38;5;124;43m        name STRING,\u001b[39;49m\n\u001b[1;32m     20\u001b[0m \u001b[38;5;124;43m        word_count INT,\u001b[39;49m\n\u001b[1;32m     21\u001b[0m \u001b[38;5;124;43m        type STRING,\u001b[39;49m\n\u001b[1;32m     22\u001b[0m \u001b[38;5;124;43m        about STRING,\u001b[39;49m\n\u001b[1;32m     23\u001b[0m \u001b[38;5;124;43m        sentiment INT,\u001b[39;49m\n\u001b[1;32m     24\u001b[0m \u001b[38;5;124;43m        tags ARRAY<string>,\u001b[39;49m\n\u001b[1;32m     25\u001b[0m \u001b[38;5;124;43m        links ARRAY<string>\u001b[39;49m\n\u001b[1;32m     26\u001b[0m \u001b[38;5;124;43m    )\u001b[39;49m\n\u001b[1;32m     27\u001b[0m \u001b[38;5;124;43m\"\"\"\u001b[39;49m\u001b[43m)\u001b[49m\n",
      "File \u001b[0;32m/usr/local/spark/python/pyspark/sql/session.py:1034\u001b[0m, in \u001b[0;36mSparkSession.sql\u001b[0;34m(self, sqlQuery, **kwargs)\u001b[0m\n\u001b[1;32m   1032\u001b[0m     sqlQuery \u001b[38;5;241m=\u001b[39m formatter\u001b[38;5;241m.\u001b[39mformat(sqlQuery, \u001b[38;5;241m*\u001b[39m\u001b[38;5;241m*\u001b[39mkwargs)\n\u001b[1;32m   1033\u001b[0m \u001b[38;5;28;01mtry\u001b[39;00m:\n\u001b[0;32m-> 1034\u001b[0m     \u001b[38;5;28;01mreturn\u001b[39;00m DataFrame(\u001b[38;5;28;43mself\u001b[39;49m\u001b[38;5;241;43m.\u001b[39;49m\u001b[43m_jsparkSession\u001b[49m\u001b[38;5;241;43m.\u001b[39;49m\u001b[43msql\u001b[49m\u001b[43m(\u001b[49m\u001b[43msqlQuery\u001b[49m\u001b[43m)\u001b[49m, \u001b[38;5;28mself\u001b[39m)\n\u001b[1;32m   1035\u001b[0m \u001b[38;5;28;01mfinally\u001b[39;00m:\n\u001b[1;32m   1036\u001b[0m     \u001b[38;5;28;01mif\u001b[39;00m \u001b[38;5;28mlen\u001b[39m(kwargs) \u001b[38;5;241m>\u001b[39m \u001b[38;5;241m0\u001b[39m:\n",
      "File \u001b[0;32m/usr/local/spark/python/lib/py4j-0.10.9.5-src.zip/py4j/java_gateway.py:1321\u001b[0m, in \u001b[0;36mJavaMember.__call__\u001b[0;34m(self, *args)\u001b[0m\n\u001b[1;32m   1315\u001b[0m command \u001b[38;5;241m=\u001b[39m proto\u001b[38;5;241m.\u001b[39mCALL_COMMAND_NAME \u001b[38;5;241m+\u001b[39m\\\n\u001b[1;32m   1316\u001b[0m     \u001b[38;5;28mself\u001b[39m\u001b[38;5;241m.\u001b[39mcommand_header \u001b[38;5;241m+\u001b[39m\\\n\u001b[1;32m   1317\u001b[0m     args_command \u001b[38;5;241m+\u001b[39m\\\n\u001b[1;32m   1318\u001b[0m     proto\u001b[38;5;241m.\u001b[39mEND_COMMAND_PART\n\u001b[1;32m   1320\u001b[0m answer \u001b[38;5;241m=\u001b[39m \u001b[38;5;28mself\u001b[39m\u001b[38;5;241m.\u001b[39mgateway_client\u001b[38;5;241m.\u001b[39msend_command(command)\n\u001b[0;32m-> 1321\u001b[0m return_value \u001b[38;5;241m=\u001b[39m \u001b[43mget_return_value\u001b[49m\u001b[43m(\u001b[49m\n\u001b[1;32m   1322\u001b[0m \u001b[43m    \u001b[49m\u001b[43manswer\u001b[49m\u001b[43m,\u001b[49m\u001b[43m \u001b[49m\u001b[38;5;28;43mself\u001b[39;49m\u001b[38;5;241;43m.\u001b[39;49m\u001b[43mgateway_client\u001b[49m\u001b[43m,\u001b[49m\u001b[43m \u001b[49m\u001b[38;5;28;43mself\u001b[39;49m\u001b[38;5;241;43m.\u001b[39;49m\u001b[43mtarget_id\u001b[49m\u001b[43m,\u001b[49m\u001b[43m \u001b[49m\u001b[38;5;28;43mself\u001b[39;49m\u001b[38;5;241;43m.\u001b[39;49m\u001b[43mname\u001b[49m\u001b[43m)\u001b[49m\n\u001b[1;32m   1324\u001b[0m \u001b[38;5;28;01mfor\u001b[39;00m temp_arg \u001b[38;5;129;01min\u001b[39;00m temp_args:\n\u001b[1;32m   1325\u001b[0m     temp_arg\u001b[38;5;241m.\u001b[39m_detach()\n",
      "File \u001b[0;32m/usr/local/spark/python/pyspark/sql/utils.py:196\u001b[0m, in \u001b[0;36mcapture_sql_exception.<locals>.deco\u001b[0;34m(*a, **kw)\u001b[0m\n\u001b[1;32m    192\u001b[0m converted \u001b[38;5;241m=\u001b[39m convert_exception(e\u001b[38;5;241m.\u001b[39mjava_exception)\n\u001b[1;32m    193\u001b[0m \u001b[38;5;28;01mif\u001b[39;00m \u001b[38;5;129;01mnot\u001b[39;00m \u001b[38;5;28misinstance\u001b[39m(converted, UnknownException):\n\u001b[1;32m    194\u001b[0m     \u001b[38;5;66;03m# Hide where the exception came from that shows a non-Pythonic\u001b[39;00m\n\u001b[1;32m    195\u001b[0m     \u001b[38;5;66;03m# JVM exception message.\u001b[39;00m\n\u001b[0;32m--> 196\u001b[0m     \u001b[38;5;28;01mraise\u001b[39;00m converted \u001b[38;5;28;01mfrom\u001b[39;00m \u001b[38;5;28mNone\u001b[39m\n\u001b[1;32m    197\u001b[0m \u001b[38;5;28;01melse\u001b[39;00m:\n\u001b[1;32m    198\u001b[0m     \u001b[38;5;28;01mraise\u001b[39;00m\n",
      "\u001b[0;31mAnalysisException\u001b[0m: Hive support is required to CREATE Hive TABLE (AS SELECT);\n'CreateTable `obsidian_metrics_db`.`files_metrics`, org.apache.hadoop.hive.serde2.lazy.LazySimpleSerDe, ErrorIfExists\n"
     ]
    }
   ],
   "source": [
    "from pyspark.sql import SparkSession\n",
    "import pyspark.sql.functions as f\n",
    "import seaborn as sns\n",
    "\n",
    "# Spark session & context\n",
    "spark = (\n",
    "    SparkSession.builder\n",
    "    .master(\"local[*]\")\n",
    "    .config(\"spark.sql.catalogImplementation\", \"hive\")\n",
    "    .enableHiveSupport()\n",
    "    .getOrCreate()\n",
    ")\n",
    "sc = spark.sparkContext\n",
    "\n",
    "spark.sql(\"CREATE DATABASE IF NOT EXISTS obsidian_metrics_db\")\n",
    "spark.sql(\"USE obsidian_metrics_db\")\n",
    "spark.sql(\"\"\"\n",
    "    CREATE TABLE files_metrics (\n",
    "        date DATE,\n",
    "        name STRING,\n",
    "        word_count INT,\n",
    "        type STRING,\n",
    "        about STRING,\n",
    "        sentiment INT,\n",
    "        tags ARRAY<string>,\n",
    "        links ARRAY<string>\n",
    "    )\n",
    "\"\"\")\n"
   ]
  },
  {
   "cell_type": "code",
   "execution_count": 10,
   "id": "2886a329-5f71-4b12-aae1-ce2734555092",
   "metadata": {
    "tags": []
   },
   "outputs": [],
   "source": [
    "spark.sparkContext.getConf().get(\"spark.sql.catalogImplementation\")"
   ]
  },
  {
   "cell_type": "code",
   "execution_count": 24,
   "id": "8c9f046b-e49c-4d4c-863d-e5a4bc55347b",
   "metadata": {
    "tags": []
   },
   "outputs": [
    {
     "ename": "TypeError",
     "evalue": "DataFrameReader.text() got an unexpected keyword argument 'recursive'",
     "output_type": "error",
     "traceback": [
      "\u001b[0;31m---------------------------------------------------------------------------\u001b[0m",
      "\u001b[0;31mTypeError\u001b[0m                                 Traceback (most recent call last)",
      "Cell \u001b[0;32mIn[24], line 5\u001b[0m\n\u001b[1;32m      1\u001b[0m AVG_WORDS_PER_MINUTE_ADULTS \u001b[38;5;241m=\u001b[39m \u001b[38;5;241m238\u001b[39m \u001b[38;5;66;03m# https://www.sciencedirect.com/science/article/abs/pii/S0749596X19300786\u001b[39;00m\n\u001b[1;32m      4\u001b[0m df \u001b[38;5;241m=\u001b[39m (\n\u001b[0;32m----> 5\u001b[0m     \u001b[43mspark\u001b[49m\u001b[38;5;241;43m.\u001b[39;49m\u001b[43mread\u001b[49m\u001b[38;5;241;43m.\u001b[39;49m\u001b[43mtext\u001b[49m\u001b[43m(\u001b[49m\u001b[38;5;124;43m\"\u001b[39;49m\u001b[38;5;124;43mdata/pages\u001b[39;49m\u001b[38;5;124;43m\"\u001b[39;49m\u001b[43m,\u001b[49m\u001b[43m \u001b[49m\u001b[43mwholetext\u001b[49m\u001b[38;5;241;43m=\u001b[39;49m\u001b[38;5;28;43;01mTrue\u001b[39;49;00m\u001b[43m,\u001b[49m\u001b[43m \u001b[49m\u001b[43mrecursive\u001b[49m\u001b[38;5;241;43m=\u001b[39;49m\u001b[38;5;28;43;01mTrue\u001b[39;49;00m\u001b[43m)\u001b[49m\n\u001b[1;32m      6\u001b[0m     \u001b[38;5;241m.\u001b[39mwithColumn(\n\u001b[1;32m      7\u001b[0m         \u001b[38;5;124m\"\u001b[39m\u001b[38;5;124mfilename\u001b[39m\u001b[38;5;124m\"\u001b[39m, \n\u001b[1;32m      8\u001b[0m         f\u001b[38;5;241m.\u001b[39mregexp_replace(\n\u001b[1;32m      9\u001b[0m             f\u001b[38;5;241m.\u001b[39mreverse(\n\u001b[1;32m     10\u001b[0m                 f\u001b[38;5;241m.\u001b[39msplit(\n\u001b[1;32m     11\u001b[0m                     f\u001b[38;5;241m.\u001b[39minput_file_name(), \n\u001b[1;32m     12\u001b[0m                     \u001b[38;5;124m'\u001b[39m\u001b[38;5;124m/\u001b[39m\u001b[38;5;124m'\u001b[39m)\n\u001b[1;32m     13\u001b[0m                 )[\u001b[38;5;241m0\u001b[39m],\n\u001b[1;32m     14\u001b[0m             \u001b[38;5;124m\"\u001b[39m\u001b[38;5;124m%\u001b[39m\u001b[38;5;124m20\u001b[39m\u001b[38;5;124m\"\u001b[39m, \u001b[38;5;124m\"\u001b[39m\u001b[38;5;124m \u001b[39m\u001b[38;5;124m\"\u001b[39m))\n\u001b[1;32m     15\u001b[0m     \u001b[38;5;241m.\u001b[39mwithColumn(\u001b[38;5;124m\"\u001b[39m\u001b[38;5;124mwords\u001b[39m\u001b[38;5;124m\"\u001b[39m, f\u001b[38;5;241m.\u001b[39msize(f\u001b[38;5;241m.\u001b[39msplit(f\u001b[38;5;241m.\u001b[39mcol(\u001b[38;5;124m'\u001b[39m\u001b[38;5;124mvalue\u001b[39m\u001b[38;5;124m'\u001b[39m), \u001b[38;5;124m'\u001b[39m\u001b[38;5;124m \u001b[39m\u001b[38;5;124m'\u001b[39m)))\n\u001b[1;32m     16\u001b[0m     \u001b[38;5;241m.\u001b[39mwithColumn(\u001b[38;5;124m\"\u001b[39m\u001b[38;5;124mreading_minutes\u001b[39m\u001b[38;5;124m\"\u001b[39m, f\u001b[38;5;241m.\u001b[39mround(f\u001b[38;5;241m.\u001b[39mcol(\u001b[38;5;124m\"\u001b[39m\u001b[38;5;124mwords\u001b[39m\u001b[38;5;124m\"\u001b[39m)\u001b[38;5;241m/\u001b[39mAVG_WORDS_PER_MINUTE_ADULTS, \u001b[38;5;241m2\u001b[39m))\n\u001b[1;32m     17\u001b[0m     \u001b[38;5;241m.\u001b[39morderBy(\u001b[38;5;124m'\u001b[39m\u001b[38;5;124mwords\u001b[39m\u001b[38;5;124m'\u001b[39m, ascending\u001b[38;5;241m=\u001b[39m\u001b[38;5;28;01mFalse\u001b[39;00m)\n\u001b[1;32m     18\u001b[0m     \u001b[38;5;241m.\u001b[39mselect([\u001b[38;5;124m\"\u001b[39m\u001b[38;5;124mfilename\u001b[39m\u001b[38;5;124m\"\u001b[39m, \u001b[38;5;124m\"\u001b[39m\u001b[38;5;124mwords\u001b[39m\u001b[38;5;124m\"\u001b[39m, \u001b[38;5;124m\"\u001b[39m\u001b[38;5;124mreading_minutes\u001b[39m\u001b[38;5;124m\"\u001b[39m])\n\u001b[1;32m     19\u001b[0m     \u001b[38;5;241m.\u001b[39mtoPandas()\n\u001b[1;32m     20\u001b[0m )\n\u001b[1;32m     21\u001b[0m df\n",
      "\u001b[0;31mTypeError\u001b[0m: DataFrameReader.text() got an unexpected keyword argument 'recursive'"
     ]
    }
   ],
   "source": [
    "AVG_WORDS_PER_MINUTE_ADULTS = 238 # https://www.sciencedirect.com/science/article/abs/pii/S0749596X19300786\n",
    "\n",
    "\n",
    "df = (\n",
    "    spark.read.text(\"data/pages\", wholetext=True)\n",
    "    .withColumn(\n",
    "        \"filename\", \n",
    "        f.regexp_replace(\n",
    "            f.reverse(\n",
    "                f.split(\n",
    "                    f.input_file_name(), \n",
    "                    '/')\n",
    "                )[0],\n",
    "            \"%20\", \" \"))\n",
    "    .withColumn(\"words\", f.size(f.split(f.col('value'), ' ')))\n",
    "    .withColumn(\"reading_minutes\", f.round(f.col(\"words\")/AVG_WORDS_PER_MINUTE_ADULTS, 2))\n",
    "    .orderBy('words', ascending=False)\n",
    "    .select([\"filename\", \"words\", \"reading_minutes\"])\n",
    "    .toPandas()\n",
    ")\n",
    "df"
   ]
  },
  {
   "cell_type": "code",
   "execution_count": null,
   "id": "b427924c",
   "metadata": {},
   "outputs": [],
   "source": [
    "df = (\n",
    "    spark.read.text(\"data/pages\")\n",
    "    .withColumn(\n",
    "        \"filename\", \n",
    "        f.regexp_replace(\n",
    "            f.reverse(\n",
    "                f.split(\n",
    "                    f.input_file_name(), \n",
    "                    '/')\n",
    "                )[0],\n",
    "            \"%20\", \" \"))\n",
    "    # Filter by lines that have \"Tags::\"\n",
    "    .filter(f.col(\"value\").rlike(\"Tags::\"))\n",
    "    # Split by \"::\" and get the second element\n",
    "    .withColumn(\"tags\", f.split(f.col(\"value\"), \"::\")[1])\n",
    "    # Split by two expressions: \", [\" and \", #\"\n",
    "    .withColumn(\"tags\", f.split(f.col(\"tags\"), \", \\[|, \\#\"))\n",
    "    # Explode the list of tags\n",
    "    .withColumn(\"tags\", f.explode(f.col(\"tags\")))\n",
    "    # Remove the spaces\n",
    "    .withColumn(\"tags\", f.trim(f.col(\"tags\")))\n",
    "    # Remove the empty strings\n",
    "    .filter(f.col(\"tags\") != \"\")\n",
    "    # Group by tags and count\n",
    "    .groupBy(\"tags\")\n",
    "    .count()\n",
    "    .orderBy(\"count\", ascending=False)\n",
    ")"
   ]
  },
  {
   "cell_type": "code",
   "execution_count": 51,
   "id": "1aac45af-9136-44e9-865e-201236677752",
   "metadata": {
    "tags": []
   },
   "outputs": [
    {
     "data": {
      "text/plain": [
       "<Axes: xlabel='reading_minutes', ylabel='Percent'>"
      ]
     },
     "execution_count": 51,
     "metadata": {},
     "output_type": "execute_result"
    },
    {
     "data": {
      "image/png": "[encoded data removed]",
      "text/plain": [
       "<Figure size 640x480 with 1 Axes>"
      ]
     },
     "metadata": {},
     "output_type": "display_data"
    }
   ],
   "source": [
    "sns.histplot(data=df, x=\"reading_minutes\", stat='percent')"
   ]
  },
  {
   "cell_type": "code",
   "execution_count": 52,
   "id": "d1d162af-77e5-455d-888c-5520631988bd",
   "metadata": {
    "tags": []
   },
   "outputs": [
    {
     "data": {
      "text/plain": [
       "<Axes: xlabel='reading_minutes', ylabel='Count'>"
      ]
     },
     "execution_count": 52,
     "metadata": {},
     "output_type": "execute_result"
    },
    {
     "data": {
      "image/png": "[encoded data removed]",
      "text/plain": [
       "<Figure size 640x480 with 1 Axes>"
      ]
     },
     "metadata": {},
     "output_type": "display_data"
    }
   ],
   "source": [
    "sns.histplot(data=df, x=\"reading_minutes\", stat='percent')\n"
   ]
  },
  {
   "cell_type": "code",
   "execution_count": 3,
   "id": "b6acdb27-48b9-4b65-87d4-d6c1531dde60",
   "metadata": {
    "tags": []
   },
   "outputs": [
    {
     "data": {
      "text/html": [
       "<table border='1'>\n",
       "<tr><th></th></tr>\n",
       "</table>\n"
      ],
      "text/plain": [
       "++\n",
       "||\n",
       "++\n",
       "++"
      ]
     },
     "execution_count": 3,
     "metadata": {},
     "output_type": "execute_result"
    }
   ],
   "source": []
  },
  {
   "cell_type": "code",
   "execution_count": null,
   "id": "31cb36c7-daf9-42d9-a6cd-f7f6340f27ea",
   "metadata": {},
   "outputs": [],
   "source": []
  }
 ],
 "metadata": {
  "kernelspec": {
   "display_name": "Python 3 (ipykernel)",
   "language": "python",
   "name": "python3"
  },
  "language_info": {
   "codemirror_mode": {
    "name": "ipython",
    "version": 3
   },
   "file_extension": ".py",
   "mimetype": "text/x-python",
   "name": "python",
   "nbconvert_exporter": "python",
   "pygments_lexer": "ipython3",
   "version": "3.10.9"
  }
 },
 "nbformat": 4,
 "nbformat_minor": 5
}
